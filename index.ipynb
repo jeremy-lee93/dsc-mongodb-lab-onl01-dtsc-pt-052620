{
 "cells": [
  {
   "cell_type": "markdown",
   "metadata": {},
   "source": [
    "# MongoDB - Lab\n",
    "\n",
    "## Introduction\n",
    "\n",
    "In this lesson, we'll get some hands-on experience with MongoDB!\n",
    "\n",
    "## Objectives\n",
    "You will be able to: \n",
    "\n",
    "- Create a MongoDB database   \n",
    "- Insert data into a MongoDB database   \n",
    "- Read data from a MongoDB database   \n",
    "- Update data in a MongoDB database   \n",
    "\n",
    "## Getting Started\n",
    "\n",
    "To begin this lab, make sure that you start up the mongoDB server in your terminal first! **You must do this lab locally on your computer, not in Learn.**\n",
    "\n",
    "\n",
    "## Connecting to the MongoDB Database\n",
    "\n",
    "In the cell below, import the appropriate library and connect to the mongoDB server. Create a new database called `'lab_db'`."
   ]
  },
  {
   "cell_type": "code",
   "execution_count": 1,
   "metadata": {
    "ExecuteTime": {
     "end_time": "2020-06-23T05:20:20.963083Z",
     "start_time": "2020-06-23T05:20:20.879671Z"
    }
   },
   "outputs": [],
   "source": [
    "import pymongo\n",
    "myclient = pymongo.MongoClient(\"mongodb://127.0.0.1:27017\")\n",
    "mydb = myclient['lab_db']"
   ]
  },
  {
   "cell_type": "markdown",
   "metadata": {},
   "source": [
    "## Creating a Collection\n",
    "\n",
    "Now, create a collection called `'lab_collection'` inside `'lab_db'`."
   ]
  },
  {
   "cell_type": "code",
   "execution_count": 2,
   "metadata": {
    "ExecuteTime": {
     "end_time": "2020-06-23T05:20:22.388591Z",
     "start_time": "2020-06-23T05:20:22.383315Z"
    }
   },
   "outputs": [],
   "source": [
    "mycollection = mydb['lab_collection']"
   ]
  },
  {
   "cell_type": "markdown",
   "metadata": {},
   "source": [
    "## Adding Some Data\n",
    "\n",
    "Now, we're going to add some example records into our database. In the cells below, create dictionary representations of the following customer records:\n",
    "\n",
    "\n",
    "|     Name     |            Email           |  Mailing_Address  | Balance |                         Notes                         |\n",
    "|:------------:|:--------------------------:|:-----------------:|:-------:|:-----------------------------------------------------:|\n",
    "|  John Smith  |    j.smith@thesmiths.com   | 123 mulberry lane |   0.0   |    Called technical support, issue not yet resolved   |\n",
    "|  Jane Smith  |  jane_smith@thesmiths.com  |         Null          |  25.00  |                   Null                                    |\n",
    "|  Adam Enbar  | adam@theflatironschool.com |    11 Broadway    |  14.99  |           Set up on recurring billing cycle           |\n",
    "| Avi Flombaum |  avi@theflatironschool.com |    11 Broadway    |   0.0   |                   Null                                    |\n",
    "|   Steven S.  |     steven.s@gmail.net     |         Null          |  -20.23 | Refunded for overpayment due to price match guarantee |\n",
    "\n",
    "\n",
    "Your first challenge is to take all of the data in the table above and create the corresponding documents and add then to our mongo database. Note that fields that contain 'Null' should not be included in the document (recall that since mongo is schema-less, each document can be different). \n",
    "\n",
    "Create the documents from the table listed above, and then use `insert_many()` to insert them into the collection."
   ]
  },
  {
   "cell_type": "code",
   "execution_count": 3,
   "metadata": {
    "ExecuteTime": {
     "end_time": "2020-06-23T05:20:34.587857Z",
     "start_time": "2020-06-23T05:20:34.572888Z"
    }
   },
   "outputs": [],
   "source": [
    "customer_1 = {'name': 'John Smith', 'email': 'j.smith@thesmiths.com', 'address':'123 mulberry lane',\n",
    "             'balance': 0.0, 'notes':'called technical support, issue not yet resolved'}\n",
    "customer_2 = {'name': 'Jane Smith', 'email': 'jane_smith@thesmiths.com', 'balance':25.00}\n",
    "customer_3 = {'name':'Adam Enbar', 'email':'adam@theflatironschool.com', 'address': '11 broadway',\n",
    "             'balance': 14.99, 'notes': 'set up on recurring billing cycle'}\n",
    "customer_4 = {'name':'Avi Flombaum', 'email':'avi@theflatironschool.com', 'address':'11 Broadway',\n",
    "             'balance':0.0}\n",
    "customer_5 = {'name': 'Steven S.', 'email': 'steven.s@gmail.net', 'balance':-20.23,\n",
    "             'notes':'refunded for overpayment due to price match guarantee'}\n",
    "\n",
    "all_records = [customer_1, customer_2, customer_3, customer_4, customer_5]\n",
    "\n",
    "insertion_results = mycollection.insert_many(all_records)"
   ]
  },
  {
   "cell_type": "markdown",
   "metadata": {},
   "source": [
    "Now, access the appropriate attribute from the results object returned from the insertion to see the unique IDs for each record inserted, so that we can confirm each were inserted correctly. "
   ]
  },
  {
   "cell_type": "code",
   "execution_count": 4,
   "metadata": {
    "ExecuteTime": {
     "end_time": "2020-06-23T05:20:38.226182Z",
     "start_time": "2020-06-23T05:20:38.209013Z"
    }
   },
   "outputs": [
    {
     "data": {
      "text/plain": [
       "[ObjectId('5ef1912276f6b7c1201a6b62'),\n",
       " ObjectId('5ef1912276f6b7c1201a6b63'),\n",
       " ObjectId('5ef1912276f6b7c1201a6b64'),\n",
       " ObjectId('5ef1912276f6b7c1201a6b65'),\n",
       " ObjectId('5ef1912276f6b7c1201a6b66')]"
      ]
     },
     "execution_count": 4,
     "metadata": {},
     "output_type": "execute_result"
    }
   ],
   "source": [
    "insertion_results.inserted_ids"
   ]
  },
  {
   "cell_type": "markdown",
   "metadata": {},
   "source": [
    "## Querying and Filtering\n",
    "\n",
    "In the cell below, return the name and email address for every customer record. Then, print every item from the query to show that it worked correctly. "
   ]
  },
  {
   "cell_type": "code",
   "execution_count": 5,
   "metadata": {
    "ExecuteTime": {
     "end_time": "2020-06-23T05:20:40.507580Z",
     "start_time": "2020-06-23T05:20:40.497145Z"
    },
    "scrolled": false
   },
   "outputs": [
    {
     "name": "stdout",
     "output_type": "stream",
     "text": [
      "{'_id': ObjectId('5ef1912276f6b7c1201a6b62'), 'name': 'John Smith', 'email': 'j.smith@thesmiths.com'}\n",
      "{'_id': ObjectId('5ef1912276f6b7c1201a6b63'), 'name': 'Jane Smith', 'email': 'jane_smith@thesmiths.com'}\n",
      "{'_id': ObjectId('5ef1912276f6b7c1201a6b64'), 'name': 'Adam Enbar', 'email': 'adam@theflatironschool.com'}\n",
      "{'_id': ObjectId('5ef1912276f6b7c1201a6b65'), 'name': 'Avi Flombaum', 'email': 'avi@theflatironschool.com'}\n",
      "{'_id': ObjectId('5ef1912276f6b7c1201a6b66'), 'name': 'Steven S.', 'email': 'steven.s@gmail.net'}\n"
     ]
    }
   ],
   "source": [
    "query_1 = mycollection.find({}, {'name':1, 'email':1})\n",
    "for x in query_1:\n",
    "    print(x)\n"
   ]
  },
  {
   "cell_type": "markdown",
   "metadata": {},
   "source": [
    "Great! Now, let's write a query that gets an individual record based on a stored key-value pair a document contains. \n",
    "\n",
    "In the cell below, write a query to get the record for `'John Smith'` by using his name. Then, print the results of the query to demonstrate that it worked correctly.  "
   ]
  },
  {
   "cell_type": "code",
   "execution_count": 6,
   "metadata": {
    "ExecuteTime": {
     "end_time": "2020-06-23T05:23:06.234088Z",
     "start_time": "2020-06-23T05:23:06.225338Z"
    }
   },
   "outputs": [
    {
     "name": "stdout",
     "output_type": "stream",
     "text": [
      "{'_id': ObjectId('5ef1912276f6b7c1201a6b62'), 'name': 'John Smith', 'email': 'j.smith@thesmiths.com', 'address': '123 mulberry lane', 'balance': 0.0, 'notes': 'called technical support, issue not yet resolved'}\n"
     ]
    }
   ],
   "source": [
    "query_2 = mycollection.find({'name': 'John Smith'})\n",
    "for x in query_2:\n",
    "    print(x)\n"
   ]
  },
  {
   "cell_type": "markdown",
   "metadata": {},
   "source": [
    "Great! Now, write a query to get the names, email addresses, and balances for customers that have a balance greater than 0. Use a modifier to do this. \n",
    "\n",
    "**_HINT_**: In the query below, you'll be passing in two separate dictionaries. The first one defines the logic of the query, while the second tells which fields we want returned. "
   ]
  },
  {
   "cell_type": "code",
   "execution_count": 7,
   "metadata": {
    "ExecuteTime": {
     "end_time": "2020-06-23T05:26:00.844236Z",
     "start_time": "2020-06-23T05:26:00.834818Z"
    }
   },
   "outputs": [
    {
     "name": "stdout",
     "output_type": "stream",
     "text": [
      "{'_id': ObjectId('5ef1912276f6b7c1201a6b63'), 'name': 'Jane Smith', 'email': 'jane_smith@thesmiths.com', 'balance': 25.0}\n",
      "{'_id': ObjectId('5ef1912276f6b7c1201a6b64'), 'name': 'Adam Enbar', 'email': 'adam@theflatironschool.com', 'balance': 14.99}\n"
     ]
    }
   ],
   "source": [
    "query_3 = mycollection.find({'balance':{'$gt':0}},{'name':1, 'email':1, 'balance':1})\n",
    "for x in query_3:\n",
    "    print(x)\n"
   ]
  },
  {
   "cell_type": "markdown",
   "metadata": {},
   "source": [
    "## Updating a Record\n",
    "\n",
    "Now, let's update some records. In the cell below. set the mailing address for `'John Smith'` to `'367 55th St., apt 2A'`."
   ]
  },
  {
   "cell_type": "code",
   "execution_count": 10,
   "metadata": {
    "ExecuteTime": {
     "end_time": "2020-06-23T05:30:13.354662Z",
     "start_time": "2020-06-23T05:30:13.343662Z"
    }
   },
   "outputs": [
    {
     "data": {
      "text/plain": [
       "<pymongo.results.UpdateResult at 0x7f8d4db7bc08>"
      ]
     },
     "execution_count": 10,
     "metadata": {},
     "output_type": "execute_result"
    }
   ],
   "source": [
    "record_to_update_1 = {'name': 'John Smith'}\n",
    "update_1 = {'$set':{'address': '367 55th St., apt 2A'}}\n",
    "mycollection.update_one(record_to_update_1, update_1)\n"
   ]
  },
  {
   "cell_type": "markdown",
   "metadata": {},
   "source": [
    "Now, write a query to check that the update worked for this document in the cell below:  "
   ]
  },
  {
   "cell_type": "code",
   "execution_count": 11,
   "metadata": {
    "ExecuteTime": {
     "end_time": "2020-06-23T05:30:14.872569Z",
     "start_time": "2020-06-23T05:30:14.861939Z"
    }
   },
   "outputs": [
    {
     "name": "stdout",
     "output_type": "stream",
     "text": [
      "{'_id': ObjectId('5ef1912276f6b7c1201a6b62'), 'name': 'John Smith', 'email': 'j.smith@thesmiths.com', 'address': '367 55th St., apt 2A', 'balance': 0.0, 'notes': 'called technical support, issue not yet resolved'}\n"
     ]
    }
   ],
   "source": [
    "query_4 = mycollection.find({'name':'John Smith'})\n",
    "for x in query_4:\n",
    "    print(x)\n"
   ]
  },
  {
   "cell_type": "markdown",
   "metadata": {},
   "source": [
    "Now, let's assume that we want to add birthdays for each customer record. Consider the following table:\n",
    "\n",
    "|     Name     |  Birthday  |\n",
    "|:------------:|:----------:|\n",
    "|  John Smith  | 02/20/1986 |\n",
    "|  Jane Smith  | 07/07/1983 |\n",
    "|  Adam Enbar  | 12/02/1982 |\n",
    "| Avi Flombaum | 04/17/1983 |\n",
    "|   Steven S.  | 08/30/1991 |\n",
    "\n",
    "We want to add birthdays for each person, but we want to do so in a way where we don't have to do the same repetitive task over and over again. This seems like a good opportunity to write a function to handle some of the logic for us!\n",
    "\n",
    "In the cell below:\n",
    "\n",
    "* Store the names in the `names_list` variable as a list.\n",
    "* Store the birthdays in the `birthdays_list` variable as a list.\n",
    "* Write a function that takes in the two different lists, and updates each record by adding in the appropriate key-value pair containing that user's birthday.\n",
    "\n",
    "**_Hint:_** There are several ways that you could write this, depending on whether you want to use the `update_one()` method or the `update_many()` method. See if you can figure out both approaches!"
   ]
  },
  {
   "cell_type": "code",
   "execution_count": 13,
   "metadata": {
    "ExecuteTime": {
     "end_time": "2020-06-23T06:05:45.216425Z",
     "start_time": "2020-06-23T06:05:45.201146Z"
    }
   },
   "outputs": [],
   "source": [
    "names_list = ['John Smith', 'Jane Smith', 'Adam Enbar', 'Avi Flombaum', 'Steven S.']\n",
    "birthdays_list = ['02/20/1986', '07/07/1983', '12/02/1982', '04/17/1983', '08/30/1991']\n",
    "\n",
    "def update_birthdays(names, birthdays):\n",
    "    for i in range(0,len(names_list)):\n",
    "        update_bday = {'$set':{'birthday': birthdays_list[i]}}\n",
    "        record_to_update = {'name': names_list[i]}\n",
    "        mycollection.update_one(record_to_update, update_bday)\n",
    "        \n",
    "    pass\n",
    "        \n",
    "update_birthdays(names_list, birthdays_list)"
   ]
  },
  {
   "cell_type": "markdown",
   "metadata": {},
   "source": [
    "Now, write a query to check your work and see that the birthdays were added correctly."
   ]
  },
  {
   "cell_type": "code",
   "execution_count": 14,
   "metadata": {
    "ExecuteTime": {
     "end_time": "2020-06-23T06:05:47.898179Z",
     "start_time": "2020-06-23T06:05:47.889323Z"
    }
   },
   "outputs": [
    {
     "name": "stdout",
     "output_type": "stream",
     "text": [
      "{'_id': ObjectId('5ef1912276f6b7c1201a6b62'), 'name': 'John Smith', 'email': 'j.smith@thesmiths.com', 'address': '367 55th St., apt 2A', 'balance': 0.0, 'notes': 'called technical support, issue not yet resolved', 'birthday': '02/20/1986'}\n",
      "{'_id': ObjectId('5ef1912276f6b7c1201a6b63'), 'name': 'Jane Smith', 'email': 'jane_smith@thesmiths.com', 'balance': 25.0, 'birthday': '07/07/1983'}\n",
      "{'_id': ObjectId('5ef1912276f6b7c1201a6b64'), 'name': 'Adam Enbar', 'email': 'adam@theflatironschool.com', 'address': '11 broadway', 'balance': 14.99, 'notes': 'set up on recurring billing cycle', 'birthday': '12/02/1982'}\n",
      "{'_id': ObjectId('5ef1912276f6b7c1201a6b65'), 'name': 'Avi Flombaum', 'email': 'avi@theflatironschool.com', 'address': '11 Broadway', 'balance': 0.0, 'birthday': '04/17/1983'}\n",
      "{'_id': ObjectId('5ef1912276f6b7c1201a6b66'), 'name': 'Steven S.', 'email': 'steven.s@gmail.net', 'balance': -20.23, 'notes': 'refunded for overpayment due to price match guarantee', 'birthday': '08/30/1991'}\n"
     ]
    }
   ],
   "source": [
    "query_6 = mycollection.find({})\n",
    "for x in query_6:\n",
    "    print(x)"
   ]
  },
  {
   "cell_type": "markdown",
   "metadata": {},
   "source": [
    "Great! It looks like the birthdays have been successfully added to every record correctly!\n",
    "\n",
    "## Summary\n",
    "\n",
    "In this lesson, we got some hands-on practice working with MongoDB!"
   ]
  }
 ],
 "metadata": {
  "kernelspec": {
   "display_name": "learn-env",
   "language": "python",
   "name": "learn-env"
  },
  "language_info": {
   "codemirror_mode": {
    "name": "ipython",
    "version": 3
   },
   "file_extension": ".py",
   "mimetype": "text/x-python",
   "name": "python",
   "nbconvert_exporter": "python",
   "pygments_lexer": "ipython3",
   "version": "3.6.9"
  },
  "toc": {
   "base_numbering": 1,
   "nav_menu": {},
   "number_sections": true,
   "sideBar": true,
   "skip_h1_title": false,
   "title_cell": "Table of Contents",
   "title_sidebar": "Contents",
   "toc_cell": false,
   "toc_position": {},
   "toc_section_display": true,
   "toc_window_display": false
  },
  "varInspector": {
   "cols": {
    "lenName": 16,
    "lenType": 16,
    "lenVar": 40
   },
   "kernels_config": {
    "python": {
     "delete_cmd_postfix": "",
     "delete_cmd_prefix": "del ",
     "library": "var_list.py",
     "varRefreshCmd": "print(var_dic_list())"
    },
    "r": {
     "delete_cmd_postfix": ") ",
     "delete_cmd_prefix": "rm(",
     "library": "var_list.r",
     "varRefreshCmd": "cat(var_dic_list()) "
    }
   },
   "types_to_exclude": [
    "module",
    "function",
    "builtin_function_or_method",
    "instance",
    "_Feature"
   ],
   "window_display": false
  }
 },
 "nbformat": 4,
 "nbformat_minor": 2
}
